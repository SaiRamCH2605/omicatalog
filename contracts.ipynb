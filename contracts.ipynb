{
 "cells": [
  {
   "cell_type": "code",
   "execution_count": 0,
   "metadata": {
    "application/vnd.databricks.v1+cell": {
     "cellMetadata": {
      "byteLimit": 2048000,
      "rowLimit": 10000
     },
     "inputWidgets": {},
     "nuid": "e57d6d2f-33f9-4d45-8b48-845d9e50e814",
     "showTitle": false,
     "title": ""
    }
   },
   "outputs": [],
   "source": [
    "# Get the current notebook name\n",
    "notebook_name = dbutils.notebook.entry_point.getDbutils().notebook().getContext().notebookPath().get()"
   ]
  },
  {
   "cell_type": "code",
   "execution_count": 0,
   "metadata": {
    "application/vnd.databricks.v1+cell": {
     "cellMetadata": {
      "byteLimit": 2048000,
      "rowLimit": 10000
     },
     "inputWidgets": {},
     "nuid": "357796d1-6a27-4c9c-baf8-805018de9e12",
     "showTitle": false,
     "title": ""
    }
   },
   "outputs": [
    {
     "output_type": "stream",
     "name": "stdout",
     "output_type": "stream",
     "text": [
      "2023-04-06 07:39:20,074 [INFO] -> [Thread-6] - wait_for_commands - 575 - Received command c on object id p0 \n"
     ]
    }
   ],
   "source": [
    "import datetime"
   ]
  },
  {
   "cell_type": "code",
   "execution_count": 0,
   "metadata": {
    "application/vnd.databricks.v1+cell": {
     "cellMetadata": {
      "byteLimit": 2048000,
      "rowLimit": 10000
     },
     "inputWidgets": {},
     "nuid": "9d2fa61d-7ddd-45cf-bba2-1c8ab3610ddf",
     "showTitle": false,
     "title": ""
    }
   },
   "outputs": [],
   "source": [
    "%run ./auditing"
   ]
  },
  {
   "cell_type": "code",
   "execution_count": 0,
   "metadata": {
    "application/vnd.databricks.v1+cell": {
     "cellMetadata": {
      "byteLimit": 2048000,
      "rowLimit": 10000
     },
     "inputWidgets": {},
     "nuid": "dbf1a1fc-d602-42c5-9103-eccf25ae796c",
     "showTitle": false,
     "title": ""
    }
   },
   "outputs": [
    {
     "output_type": "stream",
     "name": "stdout",
     "output_type": "stream",
     "text": [
      "2023-04-06 07:39:22,490 [INFO] -> [Thread-6] - wait_for_commands - 575 - Received command c on object id p0 \n2023-04-06 07:39:39,720 [INFO] -> [MainThread] - init_log - 30 - /tmp/parquet_2023_04_06_07_39_39.log \n2023-04-06 07:41:22,117 [INFO] -> [MainThread] - <module> - 12 - batch_sub_batch_id: {'batch_id': 1, 'sub_batch_id': 10} \n2023-04-06 07:41:57,191 [INFO] -> [MainThread] - <module> - 16 - buss_start_dt: 2021-08-01 00:54:06 \n2023-04-06 07:41:57,410 [INFO] -> [MainThread] - <module> - 20 - src_count: 0 \n"
     ]
    }
   ],
   "source": [
    "\"\"\"should be configured in mst workflow table\"\"\"\n",
    "table = {'job_num': 41, 'wf_num': 2, 'wf_name': 'si_dwh.contract', 'status_num': 4, 'incr_indentifier_cols': 'LAST_UPDATE_DATE', 'wf_pk': 'contract_id'}\n",
    "\n",
    "\"\"\"initilize config\"\"\"\n",
    "config_data = init_config(\"/FileStore/tables/config_data-5.json\")\n",
    "\n",
    "\"\"\"get batch and sub batch id from job level pre script\n",
    "NOTE: 1. should be called at job level not at wf(table) lavel\n",
    "      2. batch id and sub batch id should be common for all notebook run in single batch\n",
    "\"\"\"\n",
    "batch_sub_batch_id = exec_job_prescript(config_data,table)\n",
    "log.info(f\"batch_sub_batch_id: {batch_sub_batch_id}\")\n",
    "\n",
    "\"\"\"get business start date from audit log\"\"\"\n",
    "buss_start_dt = get_buss_start_dt(config_data,table)\n",
    "log.info(f\"buss_start_dt: {buss_start_dt}\")\n",
    "\n",
    "\"\"\" for dwh we need to give source count query with all ods table joins \"\"\" \n",
    "src_count = get_src_count(\"select 0\")\n",
    "log.info(f\"src_count: {src_count}\")"
   ]
  },
  {
   "cell_type": "code",
   "execution_count": 0,
   "metadata": {
    "application/vnd.databricks.v1+cell": {
     "cellMetadata": {
      "byteLimit": 2048000,
      "rowLimit": 10000
     },
     "inputWidgets": {},
     "nuid": "83ec8a49-d061-487c-8340-215d322debf2",
     "showTitle": false,
     "title": ""
    }
   },
   "outputs": [
    {
     "output_type": "stream",
     "name": "stdout",
     "output_type": "stream",
     "text": [
      "2023-04-06 07:41:57,472 [INFO] -> [Thread-6] - wait_for_commands - 575 - Received command c on object id p0 \n"
     ]
    }
   ],
   "source": [
    "query1 = f\" truncate table `omi-catalog`.si_dwh.contract\"\n",
    "query2 = f\"\"\"insert\n",
    "        into\n",
    "        `omi-catalog`.si_dwh.contract (APPLICATION_DT,\n",
    "        AUD_BATCH_ID,\n",
    "        AUD_IU_FLAG,\n",
    "        AUD_SRC_SYS_ID,\n",
    "        AUD_SRC_SYS_NM,\n",
    "        AUD_SUB_BATCH_ID,\n",
    "        AUD_TRAN_DT,\n",
    "        company_id,\n",
    "        contract_expiry_dt,\n",
    "        contract_id,\n",
    "        contract_inception_dt,\n",
    "        contract_num,\n",
    "        contract_status_cd,\n",
    "        contract_status_desc,\n",
    "        INSERT_DATE,\n",
    "        INSERT_USER,\n",
    "        LAST_UPDATE_DATE,\n",
    "        LAST_UPDATE_USER,\n",
    "        master_contract_num,\n",
    "        owner_entity_id,\n",
    "        owner_entity_num,\n",
    "        product_cd,\n",
    "        product_desc,\n",
    "        application_num,\n",
    "    aud_src_sys_cd,\n",
    "    aud_src_sys_updt_ver_id,\n",
    "    billing_channel_cd,\n",
    "    billing_channel_desc,\n",
    "    billing_frequency_cd,\n",
    "    billing_frequency_desc,\n",
    "    binding_confirmation_dt,\n",
    "    branch_description,\n",
    "    branch_designation_cd,\n",
    "    branch_hier_dt,\n",
    "    business_type_cd,\n",
    "    business_type_desc,\n",
    "    contract_cd,\n",
    "    contract_issue_dt,\n",
    "    contract_renewal_dt,\n",
    "    contract_status_reason_cd,\n",
    "    contract_status_reason_desc,\n",
    "    contract_type_cd,\n",
    "    contract_type_desc,\n",
    "    date_of_despatchof_pd,\n",
    "    final_uw_decision_dt,\n",
    "    first_referred_to_uw_dt,\n",
    "    master_contract_id,\n",
    "    pd_delivery_dt,\n",
    "    proposal_received_dt,\n",
    "    quotation_num,\n",
    "    quote_entry_dt,\n",
    "    quote_issue_dt,\n",
    "    quote_request_date,\n",
    "    referral_entity_id,\n",
    "    refund_release_dt,\n",
    "    refund_request_dt,\n",
    "    renewal_notice_issue_dt,\n",
    "    request_received_dt,\n",
    "    ri_refferal_ind,\n",
    "    sales_channel_cd,\n",
    "    sales_channel_desc,\n",
    "    sales_sub_channel_cd,\n",
    "    sales_sub_channel_desc,\n",
    "    servicing_branch_cd,\n",
    "    servicing_branch_desc,\n",
    "    transactional_currency_cd,\n",
    "    transactional_currency_desc,\n",
    "    underwriting_ind,\n",
    "    uw_decision_cd,\n",
    "    uw_decision_desc,\n",
    "    uw_decision_reason_cd,\n",
    "    uw_decision_reason_desc,\n",
    "    uw_ind)\n",
    "        select\n",
    "            contract.APPLICATION_DT,\n",
    "            contract.AUD_BATCH_ID,\n",
    "            contract.AUD_IU_FLAG,\n",
    "            contract.AUD_SRC_SYS_ID,\n",
    "            contract.AUD_SRC_SYS_NM,\n",
    "            contract.AUD_SUB_BATCH_ID,\n",
    "            contract.AUD_TRAN_DT,\n",
    "            contract.company_id,\n",
    "            contract.contract_expiry_dt,\n",
    "            contract.contract_id,\n",
    "            contract.contract_inception_dt,\n",
    "            contract.contract_num,\n",
    "            contract.contract_status_cd,\n",
    "            contract.contract_status_desc,\n",
    "            contract.INSERT_DATE,\n",
    "            contract.INSERT_USER,\n",
    "            contract.LAST_UPDATE_DATE,\n",
    "            contract.LAST_UPDATE_USER,\n",
    "            contract.master_contract_num,\n",
    "            contract.owner_entity_id,\n",
    "            contract.owner_entity_num,\n",
    "            contract.product_cd,\n",
    "            contract.product_desc,\n",
    "            Null::varchar(255) as application_num,\n",
    "    Null::varchar(255) as aud_src_sys_cd,\n",
    "    Null::int as aud_src_sys_updt_ver_id,\n",
    "    Null::int as billing_channel_cd,\n",
    "    Null::varchar(255) as billing_channel_desc,\n",
    "    Null::int as billing_frequency_cd,\n",
    "    Null::varchar(255) as billing_frequency_desc,\n",
    "    Null::timestamp as binding_confirmation_dt,\n",
    "    Null::varchar(255) as branch_description,\n",
    "    Null::int as branch_designation_cd,\n",
    "    Null::timestamp as branch_hier_dt,\n",
    "    Null::int as business_type_cd,\n",
    "    Null::varchar(255) as business_type_desc,\n",
    "    Null::varchar(255) as contract_cd,\n",
    "    Null::timestamp as contract_issue_dt,\n",
    "    Null::timestamp as contract_renewal_dt,\n",
    "    Null::int as contract_status_reason_cd,\n",
    "    Null::varchar(255) as contract_status_reason_desc,\n",
    "    Null::int as contract_type_cd,\n",
    "    Null::varchar(255) as contract_type_desc,\n",
    "    Null::timestamp as date_of_despatchof_pd,\n",
    "    Null::timestamp as final_uw_decision_dt,\n",
    "    Null::timestamp as first_referred_to_uw_dt,\n",
    "    Null::varchar(255) as master_contract_id,\n",
    "    Null::timestamp as pd_delivery_dt,\n",
    "    Null::timestamp as proposal_received_dt,\n",
    "    Null::int as quotation_num,\n",
    "    Null::timestamp as quote_entry_dt,\n",
    "    Null::timestamp as quote_issue_dt,\n",
    "    Null::timestamp as quote_request_date,\n",
    "    Null::int as referral_entity_id,\n",
    "    Null::timestamp as refund_release_dt,\n",
    "    Null::timestamp as refund_request_dt,\n",
    "    Null::timestamp as renewal_notice_issue_dt,\n",
    "    Null::timestamp as request_received_dt,\n",
    "    Null::varchar(255) as ri_refferal_ind,\n",
    "    Null::int as sales_channel_cd,\n",
    "    Null::varchar(255) as sales_channel_desc,\n",
    "    Null::int as sales_sub_channel_cd,\n",
    "    Null::varchar(255) as sales_sub_channel_desc,\n",
    "    Null::int as servicing_branch_cd,\n",
    "    Null::varchar(255) as servicing_branch_desc,\n",
    "    Null::int as transactional_currency_cd,\n",
    "    Null::varchar(255) as transactional_currency_desc,\n",
    "    Null::varchar(255) as underwriting_ind,\n",
    "    Null::int as uw_decision_cd,\n",
    "    Null::varchar(255) as uw_decision_desc,\n",
    "    Null::int as uw_decision_reason_cd,\n",
    "    Null::varchar(255) as uw_decision_reason_desc,\n",
    "    Null::varchar(255) as uw_ind\n",
    "        from\n",
    "            (\n",
    "            select\n",
    "                --Row number to identify duplicates\n",
    "                      row_number() over(partition by policy.policy_no\n",
    "            order by\n",
    "                policy.policy_seq_no desc) rn,\n",
    "                case\n",
    "                    when policy.policy_status = 'Q' then\n",
    "                           appdt.application_dt               \n",
    "                    else null\n",
    "                end::TIMESTAMP as APPLICATION_DT,\n",
    "                {batch_sub_batch_id.get('batch_id')} as AUD_BATCH_ID,\n",
    "                0 as AUD_IU_FLAG,\n",
    "                policy.policy_no::bigint as AUD_SRC_SYS_ID,\n",
    "                concat('TIA', '')::VARCHAR(10) as AUD_SRC_SYS_NM,\n",
    "                {batch_sub_batch_id.get('sub_batch_id')} as AUD_SUB_BATCH_ID,\n",
    "                policy.record_timestamp::TIMESTAMP as AUD_TRAN_DT,\n",
    "                site_table.site_seq_no::INTEGER as company_id,\n",
    "                case\n",
    "                    when policy.cancel_code = 0 then policy.cover_end_date\n",
    "                    else dateadd(day,-1,policy.cover_start_date) -- interval '1 day'\n",
    "                end::TIMESTAMP  as contract_expiry_dt,\n",
    "                concat(policy.policy_no::varchar(255), '|', '101', '|', 'TIA')::VARCHAR(20) as contract_id,\n",
    "                policy.first_start_date::TIMESTAMP as contract_inception_dt,\n",
    "                policy.policy_no::INT as contract_num,\n",
    "                policy.policy_status::VARCHAR(2) as contract_status_cd,\n",
    "                mst_policy_status.description::VARCHAR(500) as contract_status_desc,\n",
    "                policy.timestamp::TIMESTAMP as INSERT_DATE,\n",
    "                user_det_userid.user_id::VARCHAR(50) as INSERT_USER,\n",
    "                policy.tia_commit_date::TIMESTAMP as LAST_UPDATE_DATE,\n",
    "                user_det_record_userid.user_id::VARCHAR(50) as LAST_UPDATE_USER,\n",
    "                policy.mp_policy_no::INTEGER as master_contract_num,\n",
    "                entity_details.entity_id::VARCHAR(50) as owner_entity_id,\n",
    "                policy.policy_holder_id::Bigint as owner_entity_num,\n",
    "                policy_entity.prod_id::VARCHAR(2) as product_cd,\n",
    "                mst_prod_name.description::VARCHAR(500) as product_desc\n",
    "            from\n",
    "                `omi-catalog`.tia_ods.policy policy\n",
    "            left join `omi-catalog`.tia_ods.policy_entity policy_entity on\n",
    "                policy_entity.policy_no = policy.policy_no\n",
    "                and coalesce(policy.newest, 'Y')= 'Y' and policy.policy_status in ('P','Q')\n",
    "            left join (select\n",
    "                        min(timestamp) application_dt,policy_no \n",
    "                    from\n",
    "                        `omi-catalog`.tia_ods.policy group by policy_no) appdt\n",
    "                  on appdt.policy_no = policy.policy_no \n",
    "            left join `omi-catalog`.tia_ods.site_table site_table on\n",
    "                POLICY_ENTITY.SITE_SEQ_NO = SITE_TABLE.SITE_SEQ_NO\n",
    "            left join (\n",
    "                select\n",
    "                    val.mst_val_si_cd code,\n",
    "                    val.mst_val_si_desc description\n",
    "                from\n",
    "                    `omi-catalog`.si_dwh.mst_mapping_table_list mst,\n",
    "                    `omi-catalog`.si_dwh.mst_table_val_list val\n",
    "                where\n",
    "                    mst.mst_tbl_si_id = val.mst_tbl_si_cd\n",
    "                    and mst.src_sys_mst_tbl_nm = 'POLICY_STATUS_CODE'\n",
    "                    and mst.src_sys_nm = 'TIA'\n",
    "                    and val.mst_val_si_language = 'en') mst_policy_status on\n",
    "                policy.policy_status = mst_policy_status.code\n",
    "            left join `omi-catalog`.si_dwh.user_details user_det_userid on\n",
    "                POLICY_ENTITY.USERID = USER_DET_USERID.USER_NUM\n",
    "            left join `omi-catalog`.si_dwh.user_details user_det_record_userid on\n",
    "                POLICY_ENTITY.RECORD_USERID = USER_DET_RECORD_USERID.USER_NUM\n",
    "            left join `omi-catalog`.si_dwh.entity_details entity_details on\n",
    "                POLICY.POLICY_HOLDER_ID = ENTITY_DETAILS.ENTITY_NUM\n",
    "            left join (\n",
    "                select\n",
    "                    val.mst_tbl_lob_cd code,\n",
    "                    val.mst_val_si_desc description\n",
    "                from\n",
    "                    `omi-catalog`.si_dwh.mst_mapping_table_list mst,\n",
    "                    `omi-catalog`.si_dwh.mst_table_val_list val\n",
    "                where\n",
    "                    mst.mst_tbl_si_id = val.mst_tbl_si_cd\n",
    "                    and mst.src_sys_mst_tbl_nm = 'PRODUCT_NAME'\n",
    "                    and mst.src_sys_nm = 'TIA'\n",
    "                    and val.mst_val_si_language = 'en') mst_prod_name on\n",
    "                policy_entity.prod_id = mst_prod_name.code\n",
    "            where\n",
    "                (\n",
    "                ( policy_entity.tia_commit_date > '{buss_start_dt}'\n",
    "                    and policy_entity.tia_commit_date <= getdate())\n",
    "                or \n",
    "                ( policy.tia_commit_date > '{buss_start_dt}'\n",
    "                    and policy.tia_commit_date <= getdate() )\n",
    "                 )\n",
    "                 ) contract\n",
    "        where\n",
    "            contract.rn = 1\"\"\""
   ]
  },
  {
   "cell_type": "code",
   "execution_count": 0,
   "metadata": {
    "application/vnd.databricks.v1+cell": {
     "cellMetadata": {
      "byteLimit": 2048000,
      "rowLimit": 10000
     },
     "inputWidgets": {},
     "nuid": "97ded139-3b1b-4edb-9912-5cc8ac01afd5",
     "showTitle": false,
     "title": ""
    }
   },
   "outputs": [
    {
     "output_type": "stream",
     "name": "stdout",
     "output_type": "stream",
     "text": [
      "2023-04-06 08:18:38,220 [INFO] -> [Thread-6] - wait_for_commands - 575 - Received command c on object id p0 \n"
     ]
    }
   ],
   "source": [
    "try:\n",
    "    \"\"\"start time of query execution\"\"\"\n",
    "    batch_start_date = datetime.datetime.now()\n",
    "    \"\"\"execution of queries\"\"\"\n",
    "    spark.sql(query1)\n",
    "    spark.sql(query2)\n",
    "    \"\"\"end time of query execution\"\"\"\n",
    "    batch_end_date = datetime.datetime.now()\n",
    "except Exception as e:\n",
    "    batch_end_date = datetime.datetime.now()\n",
    "    exec_wf_postscript_exception(config_data,table,batch_start_date,batch_end_date,src_count,buss_start_dt,batch_sub_batch_id,failure_point=f\"'{notebook_name}'\",technical_error_desc=f\"\\\"'{e}'\\\"\")\n",
    "    raise Exception(f'exception in {notebook_name}: {e}')"
   ]
  },
  {
   "cell_type": "code",
   "execution_count": 0,
   "metadata": {
    "application/vnd.databricks.v1+cell": {
     "cellMetadata": {
      "byteLimit": 2048000,
      "rowLimit": 10000
     },
     "inputWidgets": {},
     "nuid": "7933726e-6ee6-4ae9-bfd3-969677885e20",
     "showTitle": false,
     "title": ""
    }
   },
   "outputs": [
    {
     "output_type": "display_data",
     "data": {
      "text/plain": [
       ""
      ]
     },
     "metadata": {
      "application/vnd.databricks.v1+output": {
       "arguments": {},
       "data": "",
       "errorSummary": "Command skipped",
       "errorTraceType": "ansi",
       "metadata": {},
       "type": "ipynbError"
      }
     },
     "output_type": "display_data"
    }
   ],
   "source": [
    "\"\"\"wf level post script\"\"\"\n",
    "exec_wf_postscript(config_data,table,batch_start_date,batch_end_date,src_count,buss_start_dt,batch_sub_batch_id)\n",
    "\n",
    "\"\"\"job level post script\n",
    "NOTE: should be called at job level not at wf(table) lavel\n",
    "\"\"\"\n",
    "exec_job_postscript(config_data,table,batch_sub_batch_id)"
   ]
  }
 ],
 "metadata": {
  "application/vnd.databricks.v1+notebook": {
   "dashboards": [],
   "language": "python",
   "notebookMetadata": {
    "mostRecentlyExecutedCommandWithImplicitDF": {
     "commandId": 3710461963871526,
     "dataframes": [
      "_sqldf"
     ]
    },
    "pythonIndentUnit": 4
   },
   "notebookName": "contracts",
   "notebookOrigID": 3710461963871511,
   "widgets": {}
  }
 },
 "nbformat": 4,
 "nbformat_minor": 0
}
