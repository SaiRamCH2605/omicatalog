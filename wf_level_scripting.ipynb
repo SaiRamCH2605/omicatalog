{
 "cells": [
  {
   "cell_type": "code",
   "execution_count": 0,
   "metadata": {
    "application/vnd.databricks.v1+cell": {
     "cellMetadata": {},
     "inputWidgets": {},
     "nuid": "f4ecd319-7df4-4fa6-9f18-09a874466e08",
     "showTitle": false,
     "title": ""
    }
   },
   "outputs": [],
   "source": [
    "def exec_spark_sql(query,config_data=None):\n",
    "    try:\n",
    "        df = spark.sql(query)\n",
    "        return df\n",
    "    except Exception as e:\n",
    "        raise Exception(f'exception in exec_spark_sql: {e} : query: {query}')"
   ]
  },
  {
   "cell_type": "code",
   "execution_count": 0,
   "metadata": {
    "application/vnd.databricks.v1+cell": {
     "cellMetadata": {},
     "inputWidgets": {},
     "nuid": "856be40a-90b1-4d5f-9b68-86a6399e0ed0",
     "showTitle": false,
     "title": ""
    }
   },
   "outputs": [],
   "source": [
    "# pre and post script auditing status description\n",
    "def get_status_desc(status_num):\n",
    "    status_desc = {\n",
    "        1: \"'STARTED'\",\n",
    "        2: \"'ERROR_ENCOUNTERED'\",\n",
    "        3: \"'COMPLETED'\",\n",
    "        4: \"'ACTIVE'\",\n",
    "        5: \"'INACTIVE'\"\n",
    "    } \n",
    "    return status_desc.get(status_num, \"'nothing'\")"
   ]
  },
  {
   "cell_type": "code",
   "execution_count": 0,
   "metadata": {
    "application/vnd.databricks.v1+cell": {
     "cellMetadata": {},
     "inputWidgets": {},
     "nuid": "9b762583-15df-4a8b-af3a-4005d47662e4",
     "showTitle": false,
     "title": ""
    }
   },
   "outputs": [],
   "source": [
    "# auditing for audit_log and control_table\n",
    "def init_ssi_audit(config_data,table,job_num,batch_start_date,batch_end_date,src_count,target_count,buss_start_dt,batch_sub_batch_id,status_num,failure_point=\"null\",technical_error_code=\"null\",technical_error_desc=\"null\"):\n",
    "    try:\n",
    "        log.info(f\"buss_start_dt: {buss_start_dt}\")\n",
    "#         log.info(f\"buss_start_dt: {buss_start_dt}\")\n",
    "        buss_end_dt_query = f\"select max({table.get('incr_indentifier_cols')}) from {table.get('wf_name')}\"\n",
    "        buss_end_dt_df = get_df(config_data,buss_end_dt_query)\n",
    "        buss_end_dt = buss_end_dt_df.collect()[0][0]\n",
    "        log.info(f\"buss_end_dt: {buss_end_dt}\")\n",
    "        audit_log_query = f\"insert into {config_data.get('source').get('audit_schema_nm')}.audit_log values(1,{job_num},{batch_sub_batch_id.get('batch_id')},{batch_sub_batch_id.get('sub_batch_id')},{table.get('wf_num')},'{table.get('wf_name')}','{batch_start_date}','{batch_end_date}','{buss_start_dt}','{buss_end_dt}',{status_num},null,{failure_point},{technical_error_code},{get_status_desc(status_num)},{technical_error_desc},null,null)\"\n",
    "        log.debug(f\"audit_log_query: {audit_log_query}\")\n",
    "        \n",
    "        match_flag = 1 if src_count == target_count else 0\n",
    "        control_table_query = f\"insert into {config_data.get('source').get('audit_schema_nm')}.control_table values({job_num},{batch_sub_batch_id.get('batch_id')},{batch_sub_batch_id.get('sub_batch_id')},{table.get('wf_num')},'{table.get('wf_name')}',null,{src_count},{target_count},null,{match_flag},null,null,null,null,null,null)\"\n",
    "        log.debug(f\"control_table_query: {control_table_query}\")\n",
    "        \n",
    "        exec_spark_sql(audit_log_query)\n",
    "        exec_spark_sql(control_table_query)\n",
    "    except Exception as e:\n",
    "        raise Exception('exception in init_ssi_audit: %s' % e)"
   ]
  }
 ],
 "metadata": {
  "application/vnd.databricks.v1+notebook": {
   "dashboards": [],
   "language": "python",
   "notebookMetadata": {
    "pythonIndentUnit": 4
   },
   "notebookName": "wf_level_scripting",
   "notebookOrigID": 122484843534524,
   "widgets": {}
  }
 },
 "nbformat": 4,
 "nbformat_minor": 0
}
