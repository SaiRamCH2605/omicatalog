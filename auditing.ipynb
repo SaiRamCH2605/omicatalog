{
 "cells": [
  {
   "cell_type": "code",
   "execution_count": 0,
   "metadata": {
    "application/vnd.databricks.v1+cell": {
     "cellMetadata": {
      "byteLimit": 2048000,
      "rowLimit": 10000
     },
     "inputWidgets": {},
     "nuid": "f7334acb-9feb-4f98-a2d1-f5b18092b2ba",
     "showTitle": false,
     "title": ""
    }
   },
   "outputs": [
    {
     "output_type": "stream",
     "name": "stdout",
     "output_type": "stream",
     "text": [
      "2023-04-06 06:56:26,131 [INFO] -> [Thread-6] - wait_for_commands - 575 - Received command c on object id p0 \n"
     ]
    }
   ],
   "source": [
    "import datetime"
   ]
  },
  {
   "cell_type": "code",
   "execution_count": 0,
   "metadata": {
    "application/vnd.databricks.v1+cell": {
     "cellMetadata": {
      "byteLimit": 2048000,
      "rowLimit": 10000
     },
     "inputWidgets": {},
     "nuid": "182f0a6d-4d3f-4b9c-a6d0-365d93b402f3",
     "showTitle": false,
     "title": ""
    }
   },
   "outputs": [
    {
     "output_type": "stream",
     "name": "stdout",
     "output_type": "stream",
     "text": [
      "2023-04-06 06:56:26,240 [INFO] -> [Thread-6] - wait_for_commands - 575 - Received command c on object id p0 \n"
     ]
    },
    {
     "output_type": "stream",
     "name": "stdout",
     "output_type": "stream",
     "text": [
      "2023-04-06 06:56:26,340 [INFO] -> [Thread-6] - wait_for_commands - 575 - Received command c on object id p0 \n"
     ]
    }
   ],
   "source": [
    "%run ./common_utils"
   ]
  },
  {
   "cell_type": "code",
   "execution_count": 0,
   "metadata": {
    "application/vnd.databricks.v1+cell": {
     "cellMetadata": {
      "byteLimit": 2048000,
      "rowLimit": 10000
     },
     "inputWidgets": {},
     "nuid": "4c3e02c8-ff41-4958-8041-7cbee78afcec",
     "showTitle": false,
     "title": ""
    }
   },
   "outputs": [
    {
     "output_type": "stream",
     "name": "stdout",
     "output_type": "stream",
     "text": [
      "2023-04-06 06:56:26,440 [INFO] -> [Thread-6] - wait_for_commands - 575 - Received command c on object id p0 \n"
     ]
    },
    {
     "output_type": "stream",
     "name": "stdout",
     "output_type": "stream",
     "text": [
      "2023-04-06 06:56:26,742 [INFO] -> [Thread-6] - wait_for_commands - 575 - Received command c on object id p0 \n"
     ]
    },
    {
     "output_type": "stream",
     "name": "stdout",
     "output_type": "stream",
     "text": [
      "2023-04-06 06:56:26,541 [INFO] -> [Thread-6] - wait_for_commands - 575 - Received command c on object id p0 \n"
     ]
    }
   ],
   "source": [
    "%run ./job_level_scripting"
   ]
  },
  {
   "cell_type": "code",
   "execution_count": 0,
   "metadata": {
    "application/vnd.databricks.v1+cell": {
     "cellMetadata": {
      "byteLimit": 2048000,
      "rowLimit": 10000
     },
     "inputWidgets": {},
     "nuid": "0a17b3bd-6e0a-4a44-bd8f-b82f8f22abfe",
     "showTitle": false,
     "title": ""
    }
   },
   "outputs": [
    {
     "output_type": "stream",
     "name": "stdout",
     "output_type": "stream",
     "text": [
      "2023-04-06 06:56:26,842 [INFO] -> [Thread-6] - wait_for_commands - 575 - Received command c on object id p0 \n"
     ]
    },
    {
     "output_type": "stream",
     "name": "stdout",
     "output_type": "stream",
     "text": [
      "2023-04-06 06:56:26,641 [INFO] -> [Thread-6] - wait_for_commands - 575 - Received command c on object id p0 \n"
     ]
    },
    {
     "output_type": "stream",
     "name": "stdout",
     "output_type": "stream",
     "text": [
      "2023-04-06 06:56:26,943 [INFO] -> [Thread-6] - wait_for_commands - 575 - Received command c on object id p0 \n"
     ]
    },
    {
     "output_type": "stream",
     "name": "stdout",
     "output_type": "stream",
     "text": [
      "2023-04-06 06:56:27,044 [INFO] -> [Thread-6] - wait_for_commands - 575 - Received command c on object id p0 \n"
     ]
    },
    {
     "output_type": "stream",
     "name": "stdout",
     "output_type": "stream",
     "text": [
      "2023-04-06 06:56:27,445 [INFO] -> [Thread-6] - wait_for_commands - 575 - Received command c on object id p0 \n"
     ]
    },
    {
     "output_type": "stream",
     "name": "stdout",
     "output_type": "stream",
     "text": [
      "2023-04-06 06:56:27,143 [INFO] -> [Thread-6] - wait_for_commands - 575 - Received command c on object id p0 \n"
     ]
    },
    {
     "output_type": "stream",
     "name": "stdout",
     "output_type": "stream",
     "text": [
      "2023-04-06 06:56:27,244 [INFO] -> [Thread-6] - wait_for_commands - 575 - Received command c on object id p0 \n"
     ]
    },
    {
     "output_type": "stream",
     "name": "stdout",
     "output_type": "stream",
     "text": [
      "2023-04-06 06:56:27,546 [INFO] -> [Thread-6] - wait_for_commands - 575 - Received command c on object id p0 \n"
     ]
    },
    {
     "output_type": "stream",
     "name": "stdout",
     "output_type": "stream",
     "text": [
      "2023-04-06 06:56:27,346 [INFO] -> [Thread-6] - wait_for_commands - 575 - Received command c on object id p0 \n"
     ]
    },
    {
     "output_type": "stream",
     "name": "stdout",
     "output_type": "stream",
     "text": [
      "2023-04-06 06:56:27,664 [INFO] -> [Thread-6] - wait_for_commands - 575 - Received command c on object id p0 \n"
     ]
    }
   ],
   "source": [
    "%run ./wf_level_scripting"
   ]
  },
  {
   "cell_type": "code",
   "execution_count": 0,
   "metadata": {
    "application/vnd.databricks.v1+cell": {
     "cellMetadata": {
      "byteLimit": 2048000,
      "rowLimit": 10000
     },
     "inputWidgets": {},
     "nuid": "5f4a1233-3fa4-44fd-b28d-a1ca0846f3b0",
     "showTitle": false,
     "title": ""
    }
   },
   "outputs": [
    {
     "output_type": "stream",
     "name": "stdout",
     "output_type": "stream",
     "text": [
      "2023-04-06 06:56:27,751 [INFO] -> [Thread-6] - wait_for_commands - 575 - Received command c on object id p0 \n"
     ]
    }
   ],
   "source": [
    "def exec_job_prescript(config_data,table):\n",
    "    job_num = table.get('job_num')\n",
    "    current_batch_start_date = datetime.datetime.now()\n",
    "    batch_sub_batch_id = job_pre_script(config_data,job_num,current_batch_start_date)\n",
    "    return batch_sub_batch_id"
   ]
  },
  {
   "cell_type": "code",
   "execution_count": 0,
   "metadata": {
    "application/vnd.databricks.v1+cell": {
     "cellMetadata": {
      "byteLimit": 2048000,
      "rowLimit": 10000
     },
     "inputWidgets": {},
     "nuid": "5e0286ed-e232-4e41-a55b-b63d4d295ca8",
     "showTitle": false,
     "title": ""
    }
   },
   "outputs": [
    {
     "output_type": "stream",
     "name": "stdout",
     "output_type": "stream",
     "text": [
      "2023-04-06 06:56:27,848 [INFO] -> [Thread-6] - wait_for_commands - 575 - Received command c on object id p0 \n"
     ]
    }
   ],
   "source": [
    "def exec_job_postscript(config_data,table,batch_sub_batch_id):\n",
    "    # status_num = 3 indicates the job completed successfully\n",
    "    status_num = 3\n",
    "    job_num = table.get('job_num')\n",
    "    current_batch_end_date = datetime.datetime.now()\n",
    "    job_post_script(config_data,job_num,batch_sub_batch_id,status_num,current_batch_end_date)\n",
    "    return 1"
   ]
  },
  {
   "cell_type": "code",
   "execution_count": 0,
   "metadata": {
    "application/vnd.databricks.v1+cell": {
     "cellMetadata": {
      "byteLimit": 2048000,
      "rowLimit": 10000
     },
     "inputWidgets": {},
     "nuid": "cd4ddb01-8ed4-4696-805b-a0f377e1381c",
     "showTitle": false,
     "title": ""
    }
   },
   "outputs": [
    {
     "output_type": "stream",
     "name": "stdout",
     "output_type": "stream",
     "text": [
      "2023-04-06 06:56:27,948 [INFO] -> [Thread-6] - wait_for_commands - 575 - Received command c on object id p0 \n"
     ]
    }
   ],
   "source": [
    "def get_buss_start_dt(config_data,table):\n",
    "    wf_name = table.get('wf_name')\n",
    "    buss_start_dt_query = f\"select case when max(business_end_date) is null then '1800-01-01' else max(business_end_date) end max_business_end_date from {config_data.get('source').get('audit_schema_nm')}.audit_log where table_name = '{wf_name}' \"\n",
    "    log.debug(f\"buss_start_dt_query: {buss_start_dt_query}\")\n",
    "    buss_start_dt = spark.sql(buss_start_dt_query).collect()[0][0]\n",
    "    return buss_start_dt"
   ]
  },
  {
   "cell_type": "code",
   "execution_count": 0,
   "metadata": {
    "application/vnd.databricks.v1+cell": {
     "cellMetadata": {
      "byteLimit": 2048000,
      "rowLimit": 10000
     },
     "inputWidgets": {},
     "nuid": "501ba7b9-6ae6-49d2-90ad-8ec0b3ef2ed9",
     "showTitle": false,
     "title": ""
    }
   },
   "outputs": [
    {
     "output_type": "stream",
     "name": "stdout",
     "output_type": "stream",
     "text": [
      "2023-04-06 06:56:28,048 [INFO] -> [Thread-6] - wait_for_commands - 575 - Received command c on object id p0 \n"
     ]
    }
   ],
   "source": [
    "def get_src_count(query):\n",
    "    return spark.sql(query).collect()[0][0]"
   ]
  },
  {
   "cell_type": "code",
   "execution_count": 0,
   "metadata": {
    "application/vnd.databricks.v1+cell": {
     "cellMetadata": {
      "byteLimit": 2048000,
      "rowLimit": 10000
     },
     "inputWidgets": {},
     "nuid": "e7217977-6bd1-42bf-86df-91d649d1dab0",
     "showTitle": false,
     "title": ""
    }
   },
   "outputs": [
    {
     "output_type": "stream",
     "name": "stdout",
     "output_type": "stream",
     "text": [
      "2023-04-06 06:56:28,150 [INFO] -> [Thread-6] - wait_for_commands - 575 - Received command c on object id p0 \n"
     ]
    }
   ],
   "source": [
    "def exec_wf_postscript(config_data,table,batch_start_date,batch_end_date,src_count,buss_start_dt,batch_sub_batch_id):\n",
    "    # status_num = 3 indicates the job completed successfully\n",
    "    status_num = 3\n",
    "    wf_name = table.get('wf_name')\n",
    "    job_num = table.get('job_num')\n",
    "    elapsed_time = (batch_end_date - batch_start_date).total_seconds()\n",
    "    log.info(f\"{wf_name} executed in {round(elapsed_time,2)} sec | {round(int(elapsed_time) / 60,2)}  min\")\n",
    "    trgt_cnt_query = f\"select count(1) from {config_data.get('source').get('catalog_nm')}.{wf_name}\"\n",
    "    trgt_cnt_query = f\"{trgt_cnt_query} where {table.get('incr_indentifier_cols')} > '{buss_start_dt}' \"\n",
    "    log.debug(f\"trgt_cnt_query: {trgt_cnt_query}\")\n",
    "    target_count = spark.sql(trgt_cnt_query).collect()[0][0];\n",
    "    log.info(f\"target_count: {target_count}\")\n",
    "    init_ssi_audit(config_data,table,job_num,batch_start_date,batch_end_date,src_count,target_count,buss_start_dt,batch_sub_batch_id,status_num)\n",
    "    return 1"
   ]
  },
  {
   "cell_type": "code",
   "execution_count": 0,
   "metadata": {
    "application/vnd.databricks.v1+cell": {
     "cellMetadata": {
      "byteLimit": 2048000,
      "rowLimit": 10000
     },
     "inputWidgets": {},
     "nuid": "169dcf4c-4eb2-44aa-974c-9d58b56f82e2",
     "showTitle": false,
     "title": ""
    }
   },
   "outputs": [
    {
     "output_type": "stream",
     "name": "stdout",
     "output_type": "stream",
     "text": [
      "2023-04-06 06:56:28,250 [INFO] -> [Thread-6] - wait_for_commands - 575 - Received command c on object id p0 \n"
     ]
    }
   ],
   "source": [
    "def exec_wf_postscript_exception(config_data,table,batch_start_date,batch_end_date,src_count,buss_start_dt,batch_sub_batch_id,failure_point=\"null\",technical_error_desc=\"null\"):\n",
    "    # status_num = 2 indicates the job has errors\n",
    "    status_num = 2\n",
    "    wf_name = table.get('wf_name')\n",
    "    job_num = table.get('job_num')\n",
    "    elapsed_time = (batch_end_date - batch_start_date).total_seconds()\n",
    "    log.info(f\"{wf_name} executed in {round(elapsed_time,2)} sec | {round(int(elapsed_time) / 60,2)}  min\")\n",
    "#     trgt_cnt_query = f\"select count(1) from {config_data.get('source').get('catalog_nm')}.{wf_name}\"\n",
    "#     trgt_cnt_query = f\"{trgt_cnt_query} where {table.get('incr_indentifier_cols')} > '{buss_start_dt}' \"\n",
    "#     log.debug(f\"trgt_cnt_query: {trgt_cnt_query}\")\n",
    "#     target_count = spark.sql(trgt_cnt_query).collect()[0][0];\n",
    "    target_count = \"null\"\n",
    "    log.info(f\"target_count: {target_count}\")\n",
    "    init_ssi_audit(config_data,table,job_num,batch_start_date,batch_end_date,src_count,target_count,buss_start_dt,batch_sub_batch_id,status_num,failure_point=failure_point,technical_error_desc=technical_error_desc)\n",
    "    return 1"
   ]
  }
 ],
 "metadata": {
  "application/vnd.databricks.v1+notebook": {
   "dashboards": [],
   "language": "python",
   "notebookMetadata": {
    "pythonIndentUnit": 4
   },
   "notebookName": "auditing",
   "notebookOrigID": 3710461963871562,
   "widgets": {}
  }
 },
 "nbformat": 4,
 "nbformat_minor": 0
}
